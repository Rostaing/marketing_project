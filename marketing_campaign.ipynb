{
 "cells": [
  {
   "cell_type": "code",
   "execution_count": null,
   "id": "7f689d21-697f-479e-9acd-5ab8e17d61a2",
   "metadata": {
    "tags": []
   },
   "outputs": [],
   "source": [
    "import numpy as np\n",
    "import pandas as pd\n",
    "import matplotlib.pyplot as plt\n",
    "import seaborn as sns\n",
    "import sweetviz as sw\n",
    "import dtale"
   ]
  },
  {
   "cell_type": "code",
   "execution_count": 2,
   "id": "2ad4a435-879c-4b95-87a0-0b1d8c417fac",
   "metadata": {
    "tags": []
   },
   "outputs": [],
   "source": [
    "data = pd.read_csv(\"D:/Data Science & AI/regression_classification_datasets/datasets/classification/marketing_campaign.csv\", sep=\";\")"
   ]
  },
  {
   "cell_type": "code",
   "execution_count": 3,
   "id": "de9dcc38-5954-4dfa-8476-8cab34cc89b3",
   "metadata": {
    "tags": []
   },
   "outputs": [
    {
     "data": {
      "text/html": [
       "<div>\n",
       "<style scoped>\n",
       "    .dataframe tbody tr th:only-of-type {\n",
       "        vertical-align: middle;\n",
       "    }\n",
       "\n",
       "    .dataframe tbody tr th {\n",
       "        vertical-align: top;\n",
       "    }\n",
       "\n",
       "    .dataframe thead th {\n",
       "        text-align: right;\n",
       "    }\n",
       "</style>\n",
       "<table border=\"1\" class=\"dataframe\">\n",
       "  <thead>\n",
       "    <tr style=\"text-align: right;\">\n",
       "      <th></th>\n",
       "      <th>ID</th>\n",
       "      <th>Year_Birth</th>\n",
       "      <th>Education</th>\n",
       "      <th>Marital_Status</th>\n",
       "      <th>Income</th>\n",
       "      <th>Kidhome</th>\n",
       "      <th>Teenhome</th>\n",
       "      <th>Dt_Customer</th>\n",
       "      <th>Recency</th>\n",
       "      <th>MntWines</th>\n",
       "      <th>...</th>\n",
       "      <th>NumWebVisitsMonth</th>\n",
       "      <th>AcceptedCmp3</th>\n",
       "      <th>AcceptedCmp4</th>\n",
       "      <th>AcceptedCmp5</th>\n",
       "      <th>AcceptedCmp1</th>\n",
       "      <th>AcceptedCmp2</th>\n",
       "      <th>Complain</th>\n",
       "      <th>Z_CostContact</th>\n",
       "      <th>Z_Revenue</th>\n",
       "      <th>Response</th>\n",
       "    </tr>\n",
       "  </thead>\n",
       "  <tbody>\n",
       "    <tr>\n",
       "      <th>0</th>\n",
       "      <td>5524</td>\n",
       "      <td>1957</td>\n",
       "      <td>Graduation</td>\n",
       "      <td>Single</td>\n",
       "      <td>58138.0</td>\n",
       "      <td>0</td>\n",
       "      <td>0</td>\n",
       "      <td>2012-09-04</td>\n",
       "      <td>58</td>\n",
       "      <td>635</td>\n",
       "      <td>...</td>\n",
       "      <td>7</td>\n",
       "      <td>0</td>\n",
       "      <td>0</td>\n",
       "      <td>0</td>\n",
       "      <td>0</td>\n",
       "      <td>0</td>\n",
       "      <td>0</td>\n",
       "      <td>3</td>\n",
       "      <td>11</td>\n",
       "      <td>1</td>\n",
       "    </tr>\n",
       "    <tr>\n",
       "      <th>1</th>\n",
       "      <td>2174</td>\n",
       "      <td>1954</td>\n",
       "      <td>Graduation</td>\n",
       "      <td>Single</td>\n",
       "      <td>46344.0</td>\n",
       "      <td>1</td>\n",
       "      <td>1</td>\n",
       "      <td>2014-03-08</td>\n",
       "      <td>38</td>\n",
       "      <td>11</td>\n",
       "      <td>...</td>\n",
       "      <td>5</td>\n",
       "      <td>0</td>\n",
       "      <td>0</td>\n",
       "      <td>0</td>\n",
       "      <td>0</td>\n",
       "      <td>0</td>\n",
       "      <td>0</td>\n",
       "      <td>3</td>\n",
       "      <td>11</td>\n",
       "      <td>0</td>\n",
       "    </tr>\n",
       "    <tr>\n",
       "      <th>2</th>\n",
       "      <td>4141</td>\n",
       "      <td>1965</td>\n",
       "      <td>Graduation</td>\n",
       "      <td>Together</td>\n",
       "      <td>71613.0</td>\n",
       "      <td>0</td>\n",
       "      <td>0</td>\n",
       "      <td>2013-08-21</td>\n",
       "      <td>26</td>\n",
       "      <td>426</td>\n",
       "      <td>...</td>\n",
       "      <td>4</td>\n",
       "      <td>0</td>\n",
       "      <td>0</td>\n",
       "      <td>0</td>\n",
       "      <td>0</td>\n",
       "      <td>0</td>\n",
       "      <td>0</td>\n",
       "      <td>3</td>\n",
       "      <td>11</td>\n",
       "      <td>0</td>\n",
       "    </tr>\n",
       "    <tr>\n",
       "      <th>3</th>\n",
       "      <td>6182</td>\n",
       "      <td>1984</td>\n",
       "      <td>Graduation</td>\n",
       "      <td>Together</td>\n",
       "      <td>26646.0</td>\n",
       "      <td>1</td>\n",
       "      <td>0</td>\n",
       "      <td>2014-02-10</td>\n",
       "      <td>26</td>\n",
       "      <td>11</td>\n",
       "      <td>...</td>\n",
       "      <td>6</td>\n",
       "      <td>0</td>\n",
       "      <td>0</td>\n",
       "      <td>0</td>\n",
       "      <td>0</td>\n",
       "      <td>0</td>\n",
       "      <td>0</td>\n",
       "      <td>3</td>\n",
       "      <td>11</td>\n",
       "      <td>0</td>\n",
       "    </tr>\n",
       "    <tr>\n",
       "      <th>4</th>\n",
       "      <td>5324</td>\n",
       "      <td>1981</td>\n",
       "      <td>PhD</td>\n",
       "      <td>Married</td>\n",
       "      <td>58293.0</td>\n",
       "      <td>1</td>\n",
       "      <td>0</td>\n",
       "      <td>2014-01-19</td>\n",
       "      <td>94</td>\n",
       "      <td>173</td>\n",
       "      <td>...</td>\n",
       "      <td>5</td>\n",
       "      <td>0</td>\n",
       "      <td>0</td>\n",
       "      <td>0</td>\n",
       "      <td>0</td>\n",
       "      <td>0</td>\n",
       "      <td>0</td>\n",
       "      <td>3</td>\n",
       "      <td>11</td>\n",
       "      <td>0</td>\n",
       "    </tr>\n",
       "  </tbody>\n",
       "</table>\n",
       "<p>5 rows × 29 columns</p>\n",
       "</div>"
      ],
      "text/plain": [
       "     ID  Year_Birth   Education Marital_Status   Income  Kidhome  Teenhome  \\\n",
       "0  5524        1957  Graduation         Single  58138.0        0         0   \n",
       "1  2174        1954  Graduation         Single  46344.0        1         1   \n",
       "2  4141        1965  Graduation       Together  71613.0        0         0   \n",
       "3  6182        1984  Graduation       Together  26646.0        1         0   \n",
       "4  5324        1981         PhD        Married  58293.0        1         0   \n",
       "\n",
       "  Dt_Customer  Recency  MntWines  ...  NumWebVisitsMonth  AcceptedCmp3  \\\n",
       "0  2012-09-04       58       635  ...                  7             0   \n",
       "1  2014-03-08       38        11  ...                  5             0   \n",
       "2  2013-08-21       26       426  ...                  4             0   \n",
       "3  2014-02-10       26        11  ...                  6             0   \n",
       "4  2014-01-19       94       173  ...                  5             0   \n",
       "\n",
       "   AcceptedCmp4  AcceptedCmp5  AcceptedCmp1  AcceptedCmp2  Complain  \\\n",
       "0             0             0             0             0         0   \n",
       "1             0             0             0             0         0   \n",
       "2             0             0             0             0         0   \n",
       "3             0             0             0             0         0   \n",
       "4             0             0             0             0         0   \n",
       "\n",
       "   Z_CostContact  Z_Revenue  Response  \n",
       "0              3         11         1  \n",
       "1              3         11         0  \n",
       "2              3         11         0  \n",
       "3              3         11         0  \n",
       "4              3         11         0  \n",
       "\n",
       "[5 rows x 29 columns]"
      ]
     },
     "execution_count": 3,
     "metadata": {},
     "output_type": "execute_result"
    }
   ],
   "source": [
    "data.head()"
   ]
  },
  {
   "cell_type": "code",
   "execution_count": 4,
   "id": "ee60dba3-c611-4c9b-9589-ef7e485c5f60",
   "metadata": {
    "tags": []
   },
   "outputs": [
    {
     "data": {
      "text/html": [
       "<div>\n",
       "<style scoped>\n",
       "    .dataframe tbody tr th:only-of-type {\n",
       "        vertical-align: middle;\n",
       "    }\n",
       "\n",
       "    .dataframe tbody tr th {\n",
       "        vertical-align: top;\n",
       "    }\n",
       "\n",
       "    .dataframe thead th {\n",
       "        text-align: right;\n",
       "    }\n",
       "</style>\n",
       "<table border=\"1\" class=\"dataframe\">\n",
       "  <thead>\n",
       "    <tr style=\"text-align: right;\">\n",
       "      <th></th>\n",
       "      <th>Year_Birth</th>\n",
       "      <th>Education</th>\n",
       "      <th>Marital_Status</th>\n",
       "      <th>Income</th>\n",
       "      <th>Kidhome</th>\n",
       "      <th>Teenhome</th>\n",
       "      <th>Recency</th>\n",
       "      <th>MntWines</th>\n",
       "      <th>MntFruits</th>\n",
       "      <th>MntMeatProducts</th>\n",
       "      <th>...</th>\n",
       "      <th>NumWebVisitsMonth</th>\n",
       "      <th>AcceptedCmp3</th>\n",
       "      <th>AcceptedCmp4</th>\n",
       "      <th>AcceptedCmp5</th>\n",
       "      <th>AcceptedCmp1</th>\n",
       "      <th>AcceptedCmp2</th>\n",
       "      <th>Complain</th>\n",
       "      <th>Z_CostContact</th>\n",
       "      <th>Z_Revenue</th>\n",
       "      <th>Response</th>\n",
       "    </tr>\n",
       "  </thead>\n",
       "  <tbody>\n",
       "    <tr>\n",
       "      <th>0</th>\n",
       "      <td>1957</td>\n",
       "      <td>Graduation</td>\n",
       "      <td>Single</td>\n",
       "      <td>58138.0</td>\n",
       "      <td>0</td>\n",
       "      <td>0</td>\n",
       "      <td>58</td>\n",
       "      <td>635</td>\n",
       "      <td>88</td>\n",
       "      <td>546</td>\n",
       "      <td>...</td>\n",
       "      <td>7</td>\n",
       "      <td>0</td>\n",
       "      <td>0</td>\n",
       "      <td>0</td>\n",
       "      <td>0</td>\n",
       "      <td>0</td>\n",
       "      <td>0</td>\n",
       "      <td>3</td>\n",
       "      <td>11</td>\n",
       "      <td>1</td>\n",
       "    </tr>\n",
       "    <tr>\n",
       "      <th>1</th>\n",
       "      <td>1954</td>\n",
       "      <td>Graduation</td>\n",
       "      <td>Single</td>\n",
       "      <td>46344.0</td>\n",
       "      <td>1</td>\n",
       "      <td>1</td>\n",
       "      <td>38</td>\n",
       "      <td>11</td>\n",
       "      <td>1</td>\n",
       "      <td>6</td>\n",
       "      <td>...</td>\n",
       "      <td>5</td>\n",
       "      <td>0</td>\n",
       "      <td>0</td>\n",
       "      <td>0</td>\n",
       "      <td>0</td>\n",
       "      <td>0</td>\n",
       "      <td>0</td>\n",
       "      <td>3</td>\n",
       "      <td>11</td>\n",
       "      <td>0</td>\n",
       "    </tr>\n",
       "    <tr>\n",
       "      <th>2</th>\n",
       "      <td>1965</td>\n",
       "      <td>Graduation</td>\n",
       "      <td>Together</td>\n",
       "      <td>71613.0</td>\n",
       "      <td>0</td>\n",
       "      <td>0</td>\n",
       "      <td>26</td>\n",
       "      <td>426</td>\n",
       "      <td>49</td>\n",
       "      <td>127</td>\n",
       "      <td>...</td>\n",
       "      <td>4</td>\n",
       "      <td>0</td>\n",
       "      <td>0</td>\n",
       "      <td>0</td>\n",
       "      <td>0</td>\n",
       "      <td>0</td>\n",
       "      <td>0</td>\n",
       "      <td>3</td>\n",
       "      <td>11</td>\n",
       "      <td>0</td>\n",
       "    </tr>\n",
       "    <tr>\n",
       "      <th>3</th>\n",
       "      <td>1984</td>\n",
       "      <td>Graduation</td>\n",
       "      <td>Together</td>\n",
       "      <td>26646.0</td>\n",
       "      <td>1</td>\n",
       "      <td>0</td>\n",
       "      <td>26</td>\n",
       "      <td>11</td>\n",
       "      <td>4</td>\n",
       "      <td>20</td>\n",
       "      <td>...</td>\n",
       "      <td>6</td>\n",
       "      <td>0</td>\n",
       "      <td>0</td>\n",
       "      <td>0</td>\n",
       "      <td>0</td>\n",
       "      <td>0</td>\n",
       "      <td>0</td>\n",
       "      <td>3</td>\n",
       "      <td>11</td>\n",
       "      <td>0</td>\n",
       "    </tr>\n",
       "    <tr>\n",
       "      <th>4</th>\n",
       "      <td>1981</td>\n",
       "      <td>PhD</td>\n",
       "      <td>Married</td>\n",
       "      <td>58293.0</td>\n",
       "      <td>1</td>\n",
       "      <td>0</td>\n",
       "      <td>94</td>\n",
       "      <td>173</td>\n",
       "      <td>43</td>\n",
       "      <td>118</td>\n",
       "      <td>...</td>\n",
       "      <td>5</td>\n",
       "      <td>0</td>\n",
       "      <td>0</td>\n",
       "      <td>0</td>\n",
       "      <td>0</td>\n",
       "      <td>0</td>\n",
       "      <td>0</td>\n",
       "      <td>3</td>\n",
       "      <td>11</td>\n",
       "      <td>0</td>\n",
       "    </tr>\n",
       "  </tbody>\n",
       "</table>\n",
       "<p>5 rows × 27 columns</p>\n",
       "</div>"
      ],
      "text/plain": [
       "   Year_Birth   Education Marital_Status   Income  Kidhome  Teenhome  Recency  \\\n",
       "0        1957  Graduation         Single  58138.0        0         0       58   \n",
       "1        1954  Graduation         Single  46344.0        1         1       38   \n",
       "2        1965  Graduation       Together  71613.0        0         0       26   \n",
       "3        1984  Graduation       Together  26646.0        1         0       26   \n",
       "4        1981         PhD        Married  58293.0        1         0       94   \n",
       "\n",
       "   MntWines  MntFruits  MntMeatProducts  ...  NumWebVisitsMonth  AcceptedCmp3  \\\n",
       "0       635         88              546  ...                  7             0   \n",
       "1        11          1                6  ...                  5             0   \n",
       "2       426         49              127  ...                  4             0   \n",
       "3        11          4               20  ...                  6             0   \n",
       "4       173         43              118  ...                  5             0   \n",
       "\n",
       "   AcceptedCmp4  AcceptedCmp5  AcceptedCmp1  AcceptedCmp2  Complain  \\\n",
       "0             0             0             0             0         0   \n",
       "1             0             0             0             0         0   \n",
       "2             0             0             0             0         0   \n",
       "3             0             0             0             0         0   \n",
       "4             0             0             0             0         0   \n",
       "\n",
       "   Z_CostContact  Z_Revenue  Response  \n",
       "0              3         11         1  \n",
       "1              3         11         0  \n",
       "2              3         11         0  \n",
       "3              3         11         0  \n",
       "4              3         11         0  \n",
       "\n",
       "[5 rows x 27 columns]"
      ]
     },
     "execution_count": 4,
     "metadata": {},
     "output_type": "execute_result"
    }
   ],
   "source": [
    "df = data.copy()\n",
    "df.drop([\"ID\", \"Dt_Customer\"], axis=1, inplace=True)\n",
    "df.head()"
   ]
  },
  {
   "cell_type": "code",
   "execution_count": 5,
   "id": "60c6c72f-f410-402d-8a99-9115c51f2290",
   "metadata": {
    "tags": []
   },
   "outputs": [],
   "source": [
    "df[\"Income\"] = df[\"Income\"].fillna(df[\"Income\"].mean())"
   ]
  },
  {
   "cell_type": "code",
   "execution_count": 185,
   "id": "c1b6a2e1-7591-40fb-b82f-675259a20b46",
   "metadata": {
    "tags": []
   },
   "outputs": [
    {
     "data": {
      "application/vnd.jupyter.widget-view+json": {
       "model_id": "29914a20aad44f5b8c09f42e1b326632",
       "version_major": 2,
       "version_minor": 0
      },
      "text/plain": [
       "                                             |          | [  0%]   00:00 -> (? left)"
      ]
     },
     "metadata": {},
     "output_type": "display_data"
    },
    {
     "name": "stdout",
     "output_type": "stream",
     "text": [
      "Report SWEETVIZ_REPORT.html was generated! NOTEBOOK/COLAB USERS: the web browser MAY not pop up, regardless, the report IS saved in your notebook/colab files.\n"
     ]
    }
   ],
   "source": [
    "report = sw.analyze(df)\n",
    "report.show_html()"
   ]
  },
  {
   "cell_type": "code",
   "execution_count": 6,
   "id": "a3c366af-683e-4ec5-b693-3acddb18f47f",
   "metadata": {
    "tags": []
   },
   "outputs": [
    {
     "data": {
      "text/html": [
       "<div>\n",
       "<style scoped>\n",
       "    .dataframe tbody tr th:only-of-type {\n",
       "        vertical-align: middle;\n",
       "    }\n",
       "\n",
       "    .dataframe tbody tr th {\n",
       "        vertical-align: top;\n",
       "    }\n",
       "\n",
       "    .dataframe thead th {\n",
       "        text-align: right;\n",
       "    }\n",
       "</style>\n",
       "<table border=\"1\" class=\"dataframe\">\n",
       "  <thead>\n",
       "    <tr style=\"text-align: right;\">\n",
       "      <th></th>\n",
       "      <th>Education</th>\n",
       "      <th>Marital_Status</th>\n",
       "    </tr>\n",
       "  </thead>\n",
       "  <tbody>\n",
       "    <tr>\n",
       "      <th>0</th>\n",
       "      <td>Graduation</td>\n",
       "      <td>Single</td>\n",
       "    </tr>\n",
       "    <tr>\n",
       "      <th>1</th>\n",
       "      <td>Graduation</td>\n",
       "      <td>Single</td>\n",
       "    </tr>\n",
       "    <tr>\n",
       "      <th>2</th>\n",
       "      <td>Graduation</td>\n",
       "      <td>Together</td>\n",
       "    </tr>\n",
       "    <tr>\n",
       "      <th>3</th>\n",
       "      <td>Graduation</td>\n",
       "      <td>Together</td>\n",
       "    </tr>\n",
       "    <tr>\n",
       "      <th>4</th>\n",
       "      <td>PhD</td>\n",
       "      <td>Married</td>\n",
       "    </tr>\n",
       "    <tr>\n",
       "      <th>...</th>\n",
       "      <td>...</td>\n",
       "      <td>...</td>\n",
       "    </tr>\n",
       "    <tr>\n",
       "      <th>2235</th>\n",
       "      <td>Graduation</td>\n",
       "      <td>Married</td>\n",
       "    </tr>\n",
       "    <tr>\n",
       "      <th>2236</th>\n",
       "      <td>PhD</td>\n",
       "      <td>Together</td>\n",
       "    </tr>\n",
       "    <tr>\n",
       "      <th>2237</th>\n",
       "      <td>Graduation</td>\n",
       "      <td>Divorced</td>\n",
       "    </tr>\n",
       "    <tr>\n",
       "      <th>2238</th>\n",
       "      <td>Master</td>\n",
       "      <td>Together</td>\n",
       "    </tr>\n",
       "    <tr>\n",
       "      <th>2239</th>\n",
       "      <td>PhD</td>\n",
       "      <td>Married</td>\n",
       "    </tr>\n",
       "  </tbody>\n",
       "</table>\n",
       "<p>2240 rows × 2 columns</p>\n",
       "</div>"
      ],
      "text/plain": [
       "       Education Marital_Status\n",
       "0     Graduation         Single\n",
       "1     Graduation         Single\n",
       "2     Graduation       Together\n",
       "3     Graduation       Together\n",
       "4            PhD        Married\n",
       "...          ...            ...\n",
       "2235  Graduation        Married\n",
       "2236         PhD       Together\n",
       "2237  Graduation       Divorced\n",
       "2238      Master       Together\n",
       "2239         PhD        Married\n",
       "\n",
       "[2240 rows x 2 columns]"
      ]
     },
     "execution_count": 6,
     "metadata": {},
     "output_type": "execute_result"
    }
   ],
   "source": [
    "df.select_dtypes('object')"
   ]
  },
  {
   "cell_type": "code",
   "execution_count": 7,
   "id": "4e4f5e06-66c1-4f0d-b3a1-c8d8062531c6",
   "metadata": {
    "tags": []
   },
   "outputs": [
    {
     "data": {
      "text/plain": [
       "{'Absurd',\n",
       " 'Alone',\n",
       " 'Divorced',\n",
       " 'Married',\n",
       " 'Single',\n",
       " 'Together',\n",
       " 'Widow',\n",
       " 'YOLO'}"
      ]
     },
     "execution_count": 7,
     "metadata": {},
     "output_type": "execute_result"
    }
   ],
   "source": [
    "set(df[\"Marital_Status\"])"
   ]
  },
  {
   "cell_type": "code",
   "execution_count": 8,
   "id": "90719037-b537-421b-8dc9-cff4fa8300ea",
   "metadata": {
    "tags": []
   },
   "outputs": [
    {
     "data": {
      "text/plain": [
       "{'2n Cycle', 'Basic', 'Graduation', 'Master', 'PhD'}"
      ]
     },
     "execution_count": 8,
     "metadata": {},
     "output_type": "execute_result"
    }
   ],
   "source": [
    "set(df[\"Education\"])"
   ]
  },
  {
   "cell_type": "code",
   "execution_count": 9,
   "id": "569b9bfe-dfdf-466d-afc8-ab4e5fc22716",
   "metadata": {
    "tags": []
   },
   "outputs": [],
   "source": [
    "from sklearn.preprocessing import LabelEncoder"
   ]
  },
  {
   "cell_type": "code",
   "execution_count": 10,
   "id": "78080934-ecce-4734-b4bd-40375363ed28",
   "metadata": {
    "tags": []
   },
   "outputs": [],
   "source": [
    "encoder = LabelEncoder()\n",
    "df[\"Education\"] = encoder.fit_transform(df[\"Education\"])"
   ]
  },
  {
   "cell_type": "code",
   "execution_count": 11,
   "id": "cd6f66b7-db38-454e-8922-98a435384de2",
   "metadata": {
    "tags": []
   },
   "outputs": [],
   "source": [
    "df[\"Marital_Status\"] = encoder.fit_transform(df[\"Marital_Status\"])"
   ]
  },
  {
   "cell_type": "code",
   "execution_count": 12,
   "id": "f3b6ec92-3978-4944-b3a5-4c2bf81051c2",
   "metadata": {
    "tags": []
   },
   "outputs": [
    {
     "data": {
      "text/html": [
       "<div>\n",
       "<style scoped>\n",
       "    .dataframe tbody tr th:only-of-type {\n",
       "        vertical-align: middle;\n",
       "    }\n",
       "\n",
       "    .dataframe tbody tr th {\n",
       "        vertical-align: top;\n",
       "    }\n",
       "\n",
       "    .dataframe thead th {\n",
       "        text-align: right;\n",
       "    }\n",
       "</style>\n",
       "<table border=\"1\" class=\"dataframe\">\n",
       "  <thead>\n",
       "    <tr style=\"text-align: right;\">\n",
       "      <th></th>\n",
       "      <th>Year_Birth</th>\n",
       "      <th>Education</th>\n",
       "      <th>Marital_Status</th>\n",
       "      <th>Income</th>\n",
       "      <th>Kidhome</th>\n",
       "      <th>Teenhome</th>\n",
       "      <th>Recency</th>\n",
       "      <th>MntWines</th>\n",
       "      <th>MntFruits</th>\n",
       "      <th>MntMeatProducts</th>\n",
       "      <th>...</th>\n",
       "      <th>NumWebVisitsMonth</th>\n",
       "      <th>AcceptedCmp3</th>\n",
       "      <th>AcceptedCmp4</th>\n",
       "      <th>AcceptedCmp5</th>\n",
       "      <th>AcceptedCmp1</th>\n",
       "      <th>AcceptedCmp2</th>\n",
       "      <th>Complain</th>\n",
       "      <th>Z_CostContact</th>\n",
       "      <th>Z_Revenue</th>\n",
       "      <th>Response</th>\n",
       "    </tr>\n",
       "  </thead>\n",
       "  <tbody>\n",
       "    <tr>\n",
       "      <th>0</th>\n",
       "      <td>1957</td>\n",
       "      <td>2</td>\n",
       "      <td>4</td>\n",
       "      <td>58138.0</td>\n",
       "      <td>0</td>\n",
       "      <td>0</td>\n",
       "      <td>58</td>\n",
       "      <td>635</td>\n",
       "      <td>88</td>\n",
       "      <td>546</td>\n",
       "      <td>...</td>\n",
       "      <td>7</td>\n",
       "      <td>0</td>\n",
       "      <td>0</td>\n",
       "      <td>0</td>\n",
       "      <td>0</td>\n",
       "      <td>0</td>\n",
       "      <td>0</td>\n",
       "      <td>3</td>\n",
       "      <td>11</td>\n",
       "      <td>1</td>\n",
       "    </tr>\n",
       "    <tr>\n",
       "      <th>1</th>\n",
       "      <td>1954</td>\n",
       "      <td>2</td>\n",
       "      <td>4</td>\n",
       "      <td>46344.0</td>\n",
       "      <td>1</td>\n",
       "      <td>1</td>\n",
       "      <td>38</td>\n",
       "      <td>11</td>\n",
       "      <td>1</td>\n",
       "      <td>6</td>\n",
       "      <td>...</td>\n",
       "      <td>5</td>\n",
       "      <td>0</td>\n",
       "      <td>0</td>\n",
       "      <td>0</td>\n",
       "      <td>0</td>\n",
       "      <td>0</td>\n",
       "      <td>0</td>\n",
       "      <td>3</td>\n",
       "      <td>11</td>\n",
       "      <td>0</td>\n",
       "    </tr>\n",
       "    <tr>\n",
       "      <th>2</th>\n",
       "      <td>1965</td>\n",
       "      <td>2</td>\n",
       "      <td>5</td>\n",
       "      <td>71613.0</td>\n",
       "      <td>0</td>\n",
       "      <td>0</td>\n",
       "      <td>26</td>\n",
       "      <td>426</td>\n",
       "      <td>49</td>\n",
       "      <td>127</td>\n",
       "      <td>...</td>\n",
       "      <td>4</td>\n",
       "      <td>0</td>\n",
       "      <td>0</td>\n",
       "      <td>0</td>\n",
       "      <td>0</td>\n",
       "      <td>0</td>\n",
       "      <td>0</td>\n",
       "      <td>3</td>\n",
       "      <td>11</td>\n",
       "      <td>0</td>\n",
       "    </tr>\n",
       "    <tr>\n",
       "      <th>3</th>\n",
       "      <td>1984</td>\n",
       "      <td>2</td>\n",
       "      <td>5</td>\n",
       "      <td>26646.0</td>\n",
       "      <td>1</td>\n",
       "      <td>0</td>\n",
       "      <td>26</td>\n",
       "      <td>11</td>\n",
       "      <td>4</td>\n",
       "      <td>20</td>\n",
       "      <td>...</td>\n",
       "      <td>6</td>\n",
       "      <td>0</td>\n",
       "      <td>0</td>\n",
       "      <td>0</td>\n",
       "      <td>0</td>\n",
       "      <td>0</td>\n",
       "      <td>0</td>\n",
       "      <td>3</td>\n",
       "      <td>11</td>\n",
       "      <td>0</td>\n",
       "    </tr>\n",
       "    <tr>\n",
       "      <th>4</th>\n",
       "      <td>1981</td>\n",
       "      <td>4</td>\n",
       "      <td>3</td>\n",
       "      <td>58293.0</td>\n",
       "      <td>1</td>\n",
       "      <td>0</td>\n",
       "      <td>94</td>\n",
       "      <td>173</td>\n",
       "      <td>43</td>\n",
       "      <td>118</td>\n",
       "      <td>...</td>\n",
       "      <td>5</td>\n",
       "      <td>0</td>\n",
       "      <td>0</td>\n",
       "      <td>0</td>\n",
       "      <td>0</td>\n",
       "      <td>0</td>\n",
       "      <td>0</td>\n",
       "      <td>3</td>\n",
       "      <td>11</td>\n",
       "      <td>0</td>\n",
       "    </tr>\n",
       "  </tbody>\n",
       "</table>\n",
       "<p>5 rows × 27 columns</p>\n",
       "</div>"
      ],
      "text/plain": [
       "   Year_Birth  Education  Marital_Status   Income  Kidhome  Teenhome  Recency  \\\n",
       "0        1957          2               4  58138.0        0         0       58   \n",
       "1        1954          2               4  46344.0        1         1       38   \n",
       "2        1965          2               5  71613.0        0         0       26   \n",
       "3        1984          2               5  26646.0        1         0       26   \n",
       "4        1981          4               3  58293.0        1         0       94   \n",
       "\n",
       "   MntWines  MntFruits  MntMeatProducts  ...  NumWebVisitsMonth  AcceptedCmp3  \\\n",
       "0       635         88              546  ...                  7             0   \n",
       "1        11          1                6  ...                  5             0   \n",
       "2       426         49              127  ...                  4             0   \n",
       "3        11          4               20  ...                  6             0   \n",
       "4       173         43              118  ...                  5             0   \n",
       "\n",
       "   AcceptedCmp4  AcceptedCmp5  AcceptedCmp1  AcceptedCmp2  Complain  \\\n",
       "0             0             0             0             0         0   \n",
       "1             0             0             0             0         0   \n",
       "2             0             0             0             0         0   \n",
       "3             0             0             0             0         0   \n",
       "4             0             0             0             0         0   \n",
       "\n",
       "   Z_CostContact  Z_Revenue  Response  \n",
       "0              3         11         1  \n",
       "1              3         11         0  \n",
       "2              3         11         0  \n",
       "3              3         11         0  \n",
       "4              3         11         0  \n",
       "\n",
       "[5 rows x 27 columns]"
      ]
     },
     "execution_count": 12,
     "metadata": {},
     "output_type": "execute_result"
    }
   ],
   "source": [
    "df.head()"
   ]
  },
  {
   "cell_type": "code",
   "execution_count": 13,
   "id": "491bacd8-a5b0-46c8-9961-38ba7b7afbed",
   "metadata": {
    "tags": []
   },
   "outputs": [
    {
     "data": {
      "text/plain": [
       "{0, 1, 2, 3, 4, 5, 6, 7}"
      ]
     },
     "execution_count": 13,
     "metadata": {},
     "output_type": "execute_result"
    }
   ],
   "source": [
    "set(df[\"Marital_Status\"])"
   ]
  },
  {
   "cell_type": "code",
   "execution_count": 14,
   "id": "4f0f67e0-416a-418a-9f65-0dff984a51ce",
   "metadata": {
    "tags": []
   },
   "outputs": [
    {
     "data": {
      "text/plain": [
       "{0, 1, 2, 3, 4}"
      ]
     },
     "execution_count": 14,
     "metadata": {},
     "output_type": "execute_result"
    }
   ],
   "source": [
    "set(df[\"Education\"])"
   ]
  },
  {
   "cell_type": "code",
   "execution_count": 15,
   "id": "82356ace-b16e-43bb-a665-05c12a750739",
   "metadata": {
    "tags": []
   },
   "outputs": [
    {
     "name": "stdout",
     "output_type": "stream",
     "text": [
      "<class 'pandas.core.frame.DataFrame'>\n",
      "RangeIndex: 2240 entries, 0 to 2239\n",
      "Data columns (total 27 columns):\n",
      " #   Column               Non-Null Count  Dtype  \n",
      "---  ------               --------------  -----  \n",
      " 0   Year_Birth           2240 non-null   int64  \n",
      " 1   Education            2240 non-null   int32  \n",
      " 2   Marital_Status       2240 non-null   int32  \n",
      " 3   Income               2240 non-null   float64\n",
      " 4   Kidhome              2240 non-null   int64  \n",
      " 5   Teenhome             2240 non-null   int64  \n",
      " 6   Recency              2240 non-null   int64  \n",
      " 7   MntWines             2240 non-null   int64  \n",
      " 8   MntFruits            2240 non-null   int64  \n",
      " 9   MntMeatProducts      2240 non-null   int64  \n",
      " 10  MntFishProducts      2240 non-null   int64  \n",
      " 11  MntSweetProducts     2240 non-null   int64  \n",
      " 12  MntGoldProds         2240 non-null   int64  \n",
      " 13  NumDealsPurchases    2240 non-null   int64  \n",
      " 14  NumWebPurchases      2240 non-null   int64  \n",
      " 15  NumCatalogPurchases  2240 non-null   int64  \n",
      " 16  NumStorePurchases    2240 non-null   int64  \n",
      " 17  NumWebVisitsMonth    2240 non-null   int64  \n",
      " 18  AcceptedCmp3         2240 non-null   int64  \n",
      " 19  AcceptedCmp4         2240 non-null   int64  \n",
      " 20  AcceptedCmp5         2240 non-null   int64  \n",
      " 21  AcceptedCmp1         2240 non-null   int64  \n",
      " 22  AcceptedCmp2         2240 non-null   int64  \n",
      " 23  Complain             2240 non-null   int64  \n",
      " 24  Z_CostContact        2240 non-null   int64  \n",
      " 25  Z_Revenue            2240 non-null   int64  \n",
      " 26  Response             2240 non-null   int64  \n",
      "dtypes: float64(1), int32(2), int64(24)\n",
      "memory usage: 455.1 KB\n"
     ]
    }
   ],
   "source": [
    "df.info()"
   ]
  },
  {
   "cell_type": "code",
   "execution_count": 16,
   "id": "dd7d945b-cff3-41de-9d1d-da43895fad74",
   "metadata": {
    "tags": []
   },
   "outputs": [
    {
     "data": {
      "text/plain": [
       "(2240, 26)"
      ]
     },
     "execution_count": 16,
     "metadata": {},
     "output_type": "execute_result"
    }
   ],
   "source": [
    "X = df.drop(\"Response\", axis=1)\n",
    "X.shape"
   ]
  },
  {
   "cell_type": "code",
   "execution_count": 17,
   "id": "5b884440-d4c0-4ac2-8ae3-75fee1e81576",
   "metadata": {
    "tags": []
   },
   "outputs": [
    {
     "data": {
      "text/plain": [
       "(2240,)"
      ]
     },
     "execution_count": 17,
     "metadata": {},
     "output_type": "execute_result"
    }
   ],
   "source": [
    "y = df[\"Response\"]\n",
    "y.shape"
   ]
  },
  {
   "cell_type": "code",
   "execution_count": 18,
   "id": "fe5dae29-4429-42f0-b276-6d78e196c759",
   "metadata": {
    "tags": []
   },
   "outputs": [],
   "source": [
    "from sklearn.model_selection import train_test_split"
   ]
  },
  {
   "cell_type": "code",
   "execution_count": 19,
   "id": "189c2c5b-9d9e-4d7d-9043-353d730dfae6",
   "metadata": {
    "tags": []
   },
   "outputs": [
    {
     "data": {
      "text/plain": [
       "((1792, 26), (448, 26), (1792,), (448,))"
      ]
     },
     "execution_count": 19,
     "metadata": {},
     "output_type": "execute_result"
    }
   ],
   "source": [
    "X_train, X_test, y_train, y_test = train_test_split(X, y, test_size=0.2, random_state=1234)\n",
    "X_train.shape, X_test.shape, y_train.shape, y_test.shape"
   ]
  },
  {
   "cell_type": "code",
   "execution_count": 55,
   "id": "0e60601d-a33a-4dc2-8717-699be6916a33",
   "metadata": {
    "tags": []
   },
   "outputs": [],
   "source": [
    "import tensorflow as tf\n",
    "from tensorflow.keras.models import Sequential\n",
    "from tensorflow.keras.layers import Dense, Dropout, LSTM, Flatten\n",
    "from tensorflow.python.keras.layers import CuDNNLSTM"
   ]
  },
  {
   "cell_type": "code",
   "execution_count": 56,
   "id": "c608c35f-55ae-48c4-a243-3d691427f093",
   "metadata": {
    "tags": []
   },
   "outputs": [],
   "source": [
    "model = Sequential()\n",
    "\n",
    "model.add(Dense(256, activation=\"relu\", input_dim=26))\n",
    "\n",
    "model.add(Dense(128, activation=\"relu\"))\n",
    "model.add(Dense(64, activation=\"relu\"))\n",
    "model.add(Dense(32, activation=\"relu\"))\n",
    "model.add(Dense(16, activation=\"relu\"))\n",
    "model.add(Dense(8, activation=\"relu\"))\n",
    "model.add(Dense(4, activation=\"relu\"))\n",
    "model.add(Dense(2, activation=\"relu\"))\n",
    "model.add(Flatten())\n",
    "model.add(Dense(1, activation=\"sigmoid\"))"
   ]
  },
  {
   "cell_type": "code",
   "execution_count": 57,
   "id": "61a38998-4e95-4058-8a0e-d15baca77ccc",
   "metadata": {
    "tags": []
   },
   "outputs": [],
   "source": [
    "# opt = tf.keras.optimizers.Adam(lr=1e-3, decay=1e-5)\n",
    "model.compile(loss=\"binary_crossentropy\", optimizer=\"adam\", metrics=[\"accuracy\"])"
   ]
  },
  {
   "cell_type": "code",
   "execution_count": 61,
   "id": "dc45b552-2ade-4339-b246-bf62b29f975b",
   "metadata": {
    "tags": []
   },
   "outputs": [
    {
     "name": "stdout",
     "output_type": "stream",
     "text": [
      "Epoch 1/100\n",
      "56/56 [==============================] - 1s 4ms/step - loss: 0.4528 - accuracy: 0.8516 - val_loss: 0.4548 - val_accuracy: 0.8482\n",
      "Epoch 2/100\n",
      "56/56 [==============================] - 0s 4ms/step - loss: 0.4498 - accuracy: 0.8516 - val_loss: 0.4521 - val_accuracy: 0.8482\n",
      "Epoch 3/100\n",
      "56/56 [==============================] - 0s 3ms/step - loss: 0.4470 - accuracy: 0.8516 - val_loss: 0.4495 - val_accuracy: 0.8482\n",
      "Epoch 4/100\n",
      "56/56 [==============================] - 0s 4ms/step - loss: 0.4445 - accuracy: 0.8516 - val_loss: 0.4471 - val_accuracy: 0.8482\n",
      "Epoch 5/100\n",
      "56/56 [==============================] - 0s 4ms/step - loss: 0.4421 - accuracy: 0.8516 - val_loss: 0.4451 - val_accuracy: 0.8482\n",
      "Epoch 6/100\n",
      "56/56 [==============================] - 0s 3ms/step - loss: 0.4400 - accuracy: 0.8516 - val_loss: 0.4431 - val_accuracy: 0.8482\n",
      "Epoch 7/100\n",
      "56/56 [==============================] - 0s 4ms/step - loss: 0.4380 - accuracy: 0.8516 - val_loss: 0.4414 - val_accuracy: 0.8482\n",
      "Epoch 8/100\n",
      "56/56 [==============================] - 0s 4ms/step - loss: 0.4363 - accuracy: 0.8516 - val_loss: 0.4397 - val_accuracy: 0.8482\n",
      "Epoch 9/100\n",
      "56/56 [==============================] - 0s 4ms/step - loss: 0.4346 - accuracy: 0.8516 - val_loss: 0.4382 - val_accuracy: 0.8482\n",
      "Epoch 10/100\n",
      "56/56 [==============================] - 0s 5ms/step - loss: 0.4331 - accuracy: 0.8516 - val_loss: 0.4369 - val_accuracy: 0.8482\n",
      "Epoch 11/100\n",
      "56/56 [==============================] - 0s 5ms/step - loss: 0.4318 - accuracy: 0.8516 - val_loss: 0.4356 - val_accuracy: 0.8482\n",
      "Epoch 12/100\n",
      "56/56 [==============================] - 0s 5ms/step - loss: 0.4306 - accuracy: 0.8516 - val_loss: 0.4346 - val_accuracy: 0.8482\n",
      "Epoch 13/100\n",
      "56/56 [==============================] - 0s 4ms/step - loss: 0.4295 - accuracy: 0.8516 - val_loss: 0.4336 - val_accuracy: 0.8482\n",
      "Epoch 14/100\n",
      "56/56 [==============================] - 0s 5ms/step - loss: 0.4285 - accuracy: 0.8516 - val_loss: 0.4326 - val_accuracy: 0.8482\n",
      "Epoch 15/100\n",
      "56/56 [==============================] - 0s 4ms/step - loss: 0.4275 - accuracy: 0.8516 - val_loss: 0.4319 - val_accuracy: 0.8482\n",
      "Epoch 16/100\n",
      "56/56 [==============================] - 0s 4ms/step - loss: 0.4267 - accuracy: 0.8516 - val_loss: 0.4312 - val_accuracy: 0.8482\n",
      "Epoch 17/100\n",
      "56/56 [==============================] - 0s 4ms/step - loss: 0.4260 - accuracy: 0.8516 - val_loss: 0.4305 - val_accuracy: 0.8482\n",
      "Epoch 18/100\n",
      "56/56 [==============================] - 0s 5ms/step - loss: 0.4253 - accuracy: 0.8516 - val_loss: 0.4299 - val_accuracy: 0.8482\n",
      "Epoch 19/100\n",
      "56/56 [==============================] - 0s 4ms/step - loss: 0.4247 - accuracy: 0.8516 - val_loss: 0.4294 - val_accuracy: 0.8482\n",
      "Epoch 20/100\n",
      "56/56 [==============================] - 0s 5ms/step - loss: 0.4241 - accuracy: 0.8516 - val_loss: 0.4290 - val_accuracy: 0.8482\n",
      "Epoch 21/100\n",
      "56/56 [==============================] - 0s 5ms/step - loss: 0.4237 - accuracy: 0.8516 - val_loss: 0.4285 - val_accuracy: 0.8482\n",
      "Epoch 22/100\n",
      "56/56 [==============================] - 0s 5ms/step - loss: 0.4232 - accuracy: 0.8516 - val_loss: 0.4281 - val_accuracy: 0.8482\n",
      "Epoch 23/100\n",
      "56/56 [==============================] - 0s 4ms/step - loss: 0.4228 - accuracy: 0.8516 - val_loss: 0.4278 - val_accuracy: 0.8482\n",
      "Epoch 24/100\n",
      "56/56 [==============================] - 0s 4ms/step - loss: 0.4225 - accuracy: 0.8516 - val_loss: 0.4275 - val_accuracy: 0.8482\n",
      "Epoch 25/100\n",
      "56/56 [==============================] - 0s 5ms/step - loss: 0.4222 - accuracy: 0.8516 - val_loss: 0.4273 - val_accuracy: 0.8482\n",
      "Epoch 26/100\n",
      "56/56 [==============================] - 0s 5ms/step - loss: 0.4219 - accuracy: 0.8516 - val_loss: 0.4271 - val_accuracy: 0.8482\n",
      "Epoch 27/100\n",
      "56/56 [==============================] - 0s 5ms/step - loss: 0.4217 - accuracy: 0.8516 - val_loss: 0.4269 - val_accuracy: 0.8482\n",
      "Epoch 28/100\n",
      "56/56 [==============================] - 0s 5ms/step - loss: 0.4215 - accuracy: 0.8516 - val_loss: 0.4267 - val_accuracy: 0.8482\n",
      "Epoch 29/100\n",
      "56/56 [==============================] - 0s 5ms/step - loss: 0.4213 - accuracy: 0.8516 - val_loss: 0.4266 - val_accuracy: 0.8482\n",
      "Epoch 30/100\n",
      "56/56 [==============================] - 0s 5ms/step - loss: 0.4211 - accuracy: 0.8516 - val_loss: 0.4264 - val_accuracy: 0.8482\n",
      "Epoch 31/100\n",
      "56/56 [==============================] - 0s 5ms/step - loss: 0.4209 - accuracy: 0.8516 - val_loss: 0.4263 - val_accuracy: 0.8482\n",
      "Epoch 32/100\n",
      "56/56 [==============================] - 0s 5ms/step - loss: 0.4208 - accuracy: 0.8516 - val_loss: 0.4262 - val_accuracy: 0.8482\n",
      "Epoch 33/100\n",
      "56/56 [==============================] - 0s 5ms/step - loss: 0.4207 - accuracy: 0.8516 - val_loss: 0.4262 - val_accuracy: 0.8482\n",
      "Epoch 34/100\n",
      "56/56 [==============================] - 0s 5ms/step - loss: 0.4206 - accuracy: 0.8516 - val_loss: 0.4261 - val_accuracy: 0.8482\n",
      "Epoch 35/100\n",
      "56/56 [==============================] - 0s 5ms/step - loss: 0.4205 - accuracy: 0.8516 - val_loss: 0.4260 - val_accuracy: 0.8482\n",
      "Epoch 36/100\n",
      "56/56 [==============================] - 0s 6ms/step - loss: 0.4205 - accuracy: 0.8516 - val_loss: 0.4260 - val_accuracy: 0.8482\n",
      "Epoch 37/100\n",
      "56/56 [==============================] - 0s 5ms/step - loss: 0.4204 - accuracy: 0.8516 - val_loss: 0.4259 - val_accuracy: 0.8482\n",
      "Epoch 38/100\n",
      "56/56 [==============================] - 0s 5ms/step - loss: 0.4203 - accuracy: 0.8516 - val_loss: 0.4259 - val_accuracy: 0.8482\n",
      "Epoch 39/100\n",
      "56/56 [==============================] - 0s 5ms/step - loss: 0.4203 - accuracy: 0.8516 - val_loss: 0.4259 - val_accuracy: 0.8482\n",
      "Epoch 40/100\n",
      "56/56 [==============================] - 0s 4ms/step - loss: 0.4202 - accuracy: 0.8516 - val_loss: 0.4259 - val_accuracy: 0.8482\n",
      "Epoch 41/100\n",
      "56/56 [==============================] - 0s 4ms/step - loss: 0.4202 - accuracy: 0.8516 - val_loss: 0.4258 - val_accuracy: 0.8482\n",
      "Epoch 42/100\n",
      "56/56 [==============================] - 0s 5ms/step - loss: 0.4202 - accuracy: 0.8516 - val_loss: 0.4258 - val_accuracy: 0.8482\n",
      "Epoch 43/100\n",
      "56/56 [==============================] - 0s 6ms/step - loss: 0.4201 - accuracy: 0.8516 - val_loss: 0.4258 - val_accuracy: 0.8482\n",
      "Epoch 44/100\n",
      "56/56 [==============================] - 0s 4ms/step - loss: 0.4201 - accuracy: 0.8516 - val_loss: 0.4258 - val_accuracy: 0.8482\n",
      "Epoch 45/100\n",
      "56/56 [==============================] - 0s 4ms/step - loss: 0.4201 - accuracy: 0.8516 - val_loss: 0.4258 - val_accuracy: 0.8482\n",
      "Epoch 46/100\n",
      "56/56 [==============================] - 0s 4ms/step - loss: 0.4201 - accuracy: 0.8516 - val_loss: 0.4258 - val_accuracy: 0.8482\n",
      "Epoch 47/100\n",
      "56/56 [==============================] - 0s 4ms/step - loss: 0.4201 - accuracy: 0.8516 - val_loss: 0.4258 - val_accuracy: 0.8482\n",
      "Epoch 48/100\n",
      "56/56 [==============================] - 0s 4ms/step - loss: 0.4201 - accuracy: 0.8516 - val_loss: 0.4258 - val_accuracy: 0.8482\n",
      "Epoch 49/100\n",
      "56/56 [==============================] - 0s 4ms/step - loss: 0.4201 - accuracy: 0.8516 - val_loss: 0.4258 - val_accuracy: 0.8482\n",
      "Epoch 50/100\n",
      "56/56 [==============================] - 0s 4ms/step - loss: 0.4200 - accuracy: 0.8516 - val_loss: 0.4258 - val_accuracy: 0.8482\n",
      "Epoch 51/100\n",
      "56/56 [==============================] - 0s 4ms/step - loss: 0.4200 - accuracy: 0.8516 - val_loss: 0.4258 - val_accuracy: 0.8482\n",
      "Epoch 52/100\n",
      "56/56 [==============================] - 0s 4ms/step - loss: 0.4200 - accuracy: 0.8516 - val_loss: 0.4258 - val_accuracy: 0.8482\n",
      "Epoch 53/100\n",
      "56/56 [==============================] - 0s 4ms/step - loss: 0.4200 - accuracy: 0.8516 - val_loss: 0.4258 - val_accuracy: 0.8482\n",
      "Epoch 54/100\n",
      "56/56 [==============================] - 0s 4ms/step - loss: 0.4200 - accuracy: 0.8516 - val_loss: 0.4258 - val_accuracy: 0.8482\n",
      "Epoch 55/100\n",
      "56/56 [==============================] - 0s 4ms/step - loss: 0.4200 - accuracy: 0.8516 - val_loss: 0.4258 - val_accuracy: 0.8482\n",
      "Epoch 56/100\n",
      "56/56 [==============================] - 0s 4ms/step - loss: 0.4200 - accuracy: 0.8516 - val_loss: 0.4258 - val_accuracy: 0.8482\n",
      "Epoch 57/100\n",
      "56/56 [==============================] - 0s 4ms/step - loss: 0.4200 - accuracy: 0.8516 - val_loss: 0.4258 - val_accuracy: 0.8482\n",
      "Epoch 58/100\n",
      "56/56 [==============================] - 0s 4ms/step - loss: 0.4200 - accuracy: 0.8516 - val_loss: 0.4258 - val_accuracy: 0.8482\n",
      "Epoch 59/100\n",
      "56/56 [==============================] - 0s 4ms/step - loss: 0.4200 - accuracy: 0.8516 - val_loss: 0.4258 - val_accuracy: 0.8482\n",
      "Epoch 60/100\n",
      "56/56 [==============================] - 0s 4ms/step - loss: 0.4200 - accuracy: 0.8516 - val_loss: 0.4258 - val_accuracy: 0.8482\n",
      "Epoch 61/100\n",
      "56/56 [==============================] - 0s 4ms/step - loss: 0.4200 - accuracy: 0.8516 - val_loss: 0.4258 - val_accuracy: 0.8482\n",
      "Epoch 62/100\n",
      "56/56 [==============================] - 0s 4ms/step - loss: 0.4200 - accuracy: 0.8516 - val_loss: 0.4258 - val_accuracy: 0.8482\n",
      "Epoch 63/100\n",
      "56/56 [==============================] - 0s 5ms/step - loss: 0.4200 - accuracy: 0.8516 - val_loss: 0.4258 - val_accuracy: 0.8482\n",
      "Epoch 64/100\n",
      "56/56 [==============================] - 0s 4ms/step - loss: 0.4200 - accuracy: 0.8516 - val_loss: 0.4258 - val_accuracy: 0.8482\n",
      "Epoch 65/100\n",
      "56/56 [==============================] - 0s 4ms/step - loss: 0.4200 - accuracy: 0.8516 - val_loss: 0.4258 - val_accuracy: 0.8482\n",
      "Epoch 66/100\n",
      "56/56 [==============================] - 0s 4ms/step - loss: 0.4200 - accuracy: 0.8516 - val_loss: 0.4258 - val_accuracy: 0.8482\n",
      "Epoch 67/100\n",
      "56/56 [==============================] - 0s 4ms/step - loss: 0.4200 - accuracy: 0.8516 - val_loss: 0.4258 - val_accuracy: 0.8482\n",
      "Epoch 68/100\n",
      "56/56 [==============================] - 0s 4ms/step - loss: 0.4200 - accuracy: 0.8516 - val_loss: 0.4258 - val_accuracy: 0.8482\n",
      "Epoch 69/100\n",
      "56/56 [==============================] - 0s 4ms/step - loss: 0.4200 - accuracy: 0.8516 - val_loss: 0.4258 - val_accuracy: 0.8482\n",
      "Epoch 70/100\n",
      "56/56 [==============================] - 0s 4ms/step - loss: 0.4200 - accuracy: 0.8516 - val_loss: 0.4258 - val_accuracy: 0.8482\n",
      "Epoch 71/100\n",
      "56/56 [==============================] - 0s 4ms/step - loss: 0.4200 - accuracy: 0.8516 - val_loss: 0.4258 - val_accuracy: 0.8482\n",
      "Epoch 72/100\n",
      "56/56 [==============================] - 0s 4ms/step - loss: 0.4200 - accuracy: 0.8516 - val_loss: 0.4258 - val_accuracy: 0.8482\n",
      "Epoch 73/100\n",
      "56/56 [==============================] - 0s 5ms/step - loss: 0.4200 - accuracy: 0.8516 - val_loss: 0.4258 - val_accuracy: 0.8482\n",
      "Epoch 74/100\n",
      "56/56 [==============================] - 0s 4ms/step - loss: 0.4200 - accuracy: 0.8516 - val_loss: 0.4258 - val_accuracy: 0.8482\n",
      "Epoch 75/100\n",
      "56/56 [==============================] - 0s 4ms/step - loss: 0.4200 - accuracy: 0.8516 - val_loss: 0.4258 - val_accuracy: 0.8482\n",
      "Epoch 76/100\n",
      "56/56 [==============================] - 0s 5ms/step - loss: 0.4200 - accuracy: 0.8516 - val_loss: 0.4258 - val_accuracy: 0.8482\n",
      "Epoch 77/100\n",
      "56/56 [==============================] - 0s 5ms/step - loss: 0.4200 - accuracy: 0.8516 - val_loss: 0.4258 - val_accuracy: 0.8482\n",
      "Epoch 78/100\n",
      "56/56 [==============================] - 0s 5ms/step - loss: 0.4200 - accuracy: 0.8516 - val_loss: 0.4258 - val_accuracy: 0.8482\n",
      "Epoch 79/100\n",
      "56/56 [==============================] - 0s 4ms/step - loss: 0.4200 - accuracy: 0.8516 - val_loss: 0.4258 - val_accuracy: 0.8482\n",
      "Epoch 80/100\n",
      "56/56 [==============================] - 0s 5ms/step - loss: 0.4200 - accuracy: 0.8516 - val_loss: 0.4258 - val_accuracy: 0.8482\n",
      "Epoch 81/100\n",
      "56/56 [==============================] - 0s 5ms/step - loss: 0.4200 - accuracy: 0.8516 - val_loss: 0.4258 - val_accuracy: 0.8482\n",
      "Epoch 82/100\n",
      "56/56 [==============================] - 0s 6ms/step - loss: 0.4200 - accuracy: 0.8516 - val_loss: 0.4258 - val_accuracy: 0.8482\n",
      "Epoch 83/100\n",
      "56/56 [==============================] - 0s 5ms/step - loss: 0.4200 - accuracy: 0.8516 - val_loss: 0.4258 - val_accuracy: 0.8482\n",
      "Epoch 84/100\n",
      "56/56 [==============================] - 0s 5ms/step - loss: 0.4200 - accuracy: 0.8516 - val_loss: 0.4258 - val_accuracy: 0.8482\n",
      "Epoch 85/100\n",
      "56/56 [==============================] - 0s 5ms/step - loss: 0.4200 - accuracy: 0.8516 - val_loss: 0.4258 - val_accuracy: 0.8482\n",
      "Epoch 86/100\n",
      "56/56 [==============================] - 0s 5ms/step - loss: 0.4200 - accuracy: 0.8516 - val_loss: 0.4258 - val_accuracy: 0.8482\n",
      "Epoch 87/100\n",
      "56/56 [==============================] - 0s 5ms/step - loss: 0.4200 - accuracy: 0.8516 - val_loss: 0.4258 - val_accuracy: 0.8482\n",
      "Epoch 88/100\n",
      "56/56 [==============================] - 0s 6ms/step - loss: 0.4200 - accuracy: 0.8516 - val_loss: 0.4258 - val_accuracy: 0.8482\n",
      "Epoch 89/100\n",
      "56/56 [==============================] - 0s 5ms/step - loss: 0.4200 - accuracy: 0.8516 - val_loss: 0.4258 - val_accuracy: 0.8482\n",
      "Epoch 90/100\n",
      "56/56 [==============================] - 0s 5ms/step - loss: 0.4200 - accuracy: 0.8516 - val_loss: 0.4258 - val_accuracy: 0.8482\n",
      "Epoch 91/100\n",
      "56/56 [==============================] - 0s 5ms/step - loss: 0.4200 - accuracy: 0.8516 - val_loss: 0.4258 - val_accuracy: 0.8482\n",
      "Epoch 92/100\n",
      "56/56 [==============================] - 0s 5ms/step - loss: 0.4200 - accuracy: 0.8516 - val_loss: 0.4258 - val_accuracy: 0.8482\n",
      "Epoch 93/100\n",
      "56/56 [==============================] - 0s 5ms/step - loss: 0.4200 - accuracy: 0.8516 - val_loss: 0.4258 - val_accuracy: 0.8482\n",
      "Epoch 94/100\n",
      "56/56 [==============================] - 0s 5ms/step - loss: 0.4200 - accuracy: 0.8516 - val_loss: 0.4258 - val_accuracy: 0.8482\n",
      "Epoch 95/100\n",
      "56/56 [==============================] - 0s 5ms/step - loss: 0.4200 - accuracy: 0.8516 - val_loss: 0.4258 - val_accuracy: 0.8482\n",
      "Epoch 96/100\n",
      "56/56 [==============================] - 0s 5ms/step - loss: 0.4200 - accuracy: 0.8516 - val_loss: 0.4259 - val_accuracy: 0.8482\n",
      "Epoch 97/100\n",
      "56/56 [==============================] - 0s 5ms/step - loss: 0.4200 - accuracy: 0.8516 - val_loss: 0.4258 - val_accuracy: 0.8482\n",
      "Epoch 98/100\n",
      "56/56 [==============================] - 0s 5ms/step - loss: 0.4200 - accuracy: 0.8516 - val_loss: 0.4258 - val_accuracy: 0.8482\n",
      "Epoch 99/100\n",
      "56/56 [==============================] - 0s 5ms/step - loss: 0.4200 - accuracy: 0.8516 - val_loss: 0.4258 - val_accuracy: 0.8482\n",
      "Epoch 100/100\n",
      "56/56 [==============================] - 0s 5ms/step - loss: 0.4200 - accuracy: 0.8516 - val_loss: 0.4258 - val_accuracy: 0.8482\n"
     ]
    }
   ],
   "source": [
    "history = model.fit(X_train, y_train, validation_data=(X_test, y_test), epochs=100)"
   ]
  },
  {
   "cell_type": "code",
   "execution_count": 62,
   "id": "561a7400-236c-41fb-910f-0bbd7bc7a7c3",
   "metadata": {
    "tags": []
   },
   "outputs": [],
   "source": [
    "loss, acc = model.evaluate(X_test, y_test, verbose=0)"
   ]
  },
  {
   "cell_type": "code",
   "execution_count": 63,
   "id": "dee2a77f-c23c-4437-b7ef-420359d1c8e1",
   "metadata": {
    "tags": []
   },
   "outputs": [
    {
     "name": "stdout",
     "output_type": "stream",
     "text": [
      "loss:0.4258389174938202\n",
      "acc:0.8482142686843872\n"
     ]
    }
   ],
   "source": [
    "print(f\"loss:{loss}\")\n",
    "print(f\"acc:{acc}\")"
   ]
  },
  {
   "cell_type": "code",
   "execution_count": 64,
   "id": "d3014756-783a-461e-89b9-03c4befb659f",
   "metadata": {
    "tags": []
   },
   "outputs": [
    {
     "data": {
      "image/png": "[encoded data removed]",
      "text/plain": [
       "<Figure size 640x480 with 1 Axes>"
      ]
     },
     "metadata": {},
     "output_type": "display_data"
    },
    {
     "data": {
      "image/png": "[encoded data removed]",
      "text/plain": [
       "<Figure size 640x480 with 1 Axes>"
      ]
     },
     "metadata": {},
     "output_type": "display_data"
    }
   ],
   "source": [
    "loss_curve = history.history[\"loss\"]\n",
    "acc_curve = history.history[\"accuracy\"]\n",
    "\n",
    "val_loss_curve = history.history[\"val_loss\"]\n",
    "val_acc_curve = history.history[\"val_accuracy\"]\n",
    "\n",
    "\n",
    "plt.plot(loss_curve, label=\"loss\")\n",
    "plt.plot(val_loss_curve, label=\"val_loss\")\n",
    "plt.title(\"Train\")\n",
    "plt.legend()\n",
    "plt.show()\n",
    "\n",
    "plt.plot(acc_curve, label=\"acc_curve\")\n",
    "plt.plot(val_loss_curve, label=\"val_acc_curve\")\n",
    "plt.title(\"Val\")\n",
    "plt.legend()\n",
    "plt.show()"
   ]
  },
  {
   "cell_type": "code",
   "execution_count": 65,
   "id": "b519cccb-ba04-43a3-933c-091ef4be91b3",
   "metadata": {
    "tags": []
   },
   "outputs": [
    {
     "name": "stdout",
     "output_type": "stream",
     "text": [
      "14/14 [==============================] - 0s 1ms/step\n"
     ]
    }
   ],
   "source": [
    "y_pred = model.predict(X_test)"
   ]
  },
  {
   "cell_type": "code",
   "execution_count": 66,
   "id": "70384ac5-61c0-4e77-bef5-42bb0d2dae21",
   "metadata": {
    "tags": []
   },
   "outputs": [
    {
     "name": "stdout",
     "output_type": "stream",
     "text": [
      "[0, 0, 0, 0, 0, 0, 0, 0, 0, 0, 0, 0, 0, 0, 0, 0, 0, 0, 0, 0, 0, 0, 0, 0, 0, 0, 0, 0, 0, 0, 0, 0, 0, 0, 0, 0, 0, 0, 0, 0, 0, 0, 0, 0, 0, 0, 0, 0, 0, 0, 0, 0, 0, 0, 0, 0, 0, 0, 0, 0, 0, 0, 0, 0, 0, 0, 0, 0, 0, 0, 0, 0, 0, 0, 0, 0, 0, 0, 0, 0, 0, 0, 0, 0, 0, 0, 0, 0, 0, 0, 0, 0, 0, 0, 0, 0, 0, 0, 0, 0, 0, 0, 0, 0, 0, 0, 0, 0, 0, 0, 0, 0, 0, 0, 0, 0, 0, 0, 0, 0, 0, 0, 0, 0, 0, 0, 0, 0, 0, 0, 0, 0, 0, 0, 0, 0, 0, 0, 0, 0, 0, 0, 0, 0, 0, 0, 0, 0, 0, 0, 0, 0, 0, 0, 0, 0, 0, 0, 0, 0, 0, 0, 0, 0, 0, 0, 0, 0, 0, 0, 0, 0, 0, 0, 0, 0, 0, 0, 0, 0, 0, 0, 0, 0, 0, 0, 0, 0, 0, 0, 0, 0, 0, 0, 0, 0, 0, 0, 0, 0, 0, 0, 0, 0, 0, 0, 0, 0, 0, 0, 0, 0, 0, 0, 0, 0, 0, 0, 0, 0, 0, 0, 0, 0, 0, 0, 0, 0, 0, 0, 0, 0, 0, 0, 0, 0, 0, 0, 0, 0, 0, 0, 0, 0, 0, 0, 0, 0, 0, 0, 0, 0, 0, 0, 0, 0, 0, 0, 0, 0, 0, 0, 0, 0, 0, 0, 0, 0, 0, 0, 0, 0, 0, 0, 0, 0, 0, 0, 0, 0, 0, 0, 0, 0, 0, 0, 0, 0, 0, 0, 0, 0, 0, 0, 0, 0, 0, 0, 0, 0, 0, 0, 0, 0, 0, 0, 0, 0, 0, 0, 0, 0, 0, 0, 0, 0, 0, 0, 0, 0, 0, 0, 0, 0, 0, 0, 0, 0, 0, 0, 0, 0, 0, 0, 0, 0, 0, 0, 0, 0, 0, 0, 0, 0, 0, 0, 0, 0, 0, 0, 0, 0, 0, 0, 0, 0, 0, 0, 0, 0, 0, 0, 0, 0, 0, 0, 0, 0, 0, 0, 0, 0, 0, 0, 0, 0, 0, 0, 0, 0, 0, 0, 0, 0, 0, 0, 0, 0, 0, 0, 0, 0, 0, 0, 0, 0, 0, 0, 0, 0, 0, 0, 0, 0, 0, 0, 0, 0, 0, 0, 0, 0, 0, 0, 0, 0, 0, 0, 0, 0, 0, 0, 0, 0, 0, 0, 0, 0, 0, 0, 0, 0, 0, 0, 0, 0, 0, 0, 0, 0, 0, 0, 0, 0, 0, 0, 0, 0]\n"
     ]
    }
   ],
   "source": [
    "y_final = [np.argmax(element) for element in y_pred]\n",
    "print(y_final)"
   ]
  },
  {
   "cell_type": "code",
   "execution_count": 67,
   "id": "b7f43487-c184-46ad-b1c9-3b840b1daa06",
   "metadata": {
    "tags": []
   },
   "outputs": [],
   "source": [
    "from sklearn.metrics import classification_report, confusion_matrix"
   ]
  },
  {
   "cell_type": "code",
   "execution_count": 69,
   "id": "c4ed4ad6-2092-49cc-8e35-063332e2384b",
   "metadata": {
    "tags": []
   },
   "outputs": [
    {
     "name": "stderr",
     "output_type": "stream",
     "text": [
      "C:\\Users\\Rostaing\\anaconda3\\lib\\site-packages\\sklearn\\metrics\\_classification.py:1318: UndefinedMetricWarning:\n",
      "\n",
      "Precision and F-score are ill-defined and being set to 0.0 in labels with no predicted samples. Use `zero_division` parameter to control this behavior.\n",
      "\n"
     ]
    },
    {
     "name": "stdout",
     "output_type": "stream",
     "text": [
      "              precision    recall  f1-score   support\n",
      "\n",
      "           0       0.85      1.00      0.92       380\n",
      "           1       0.00      0.00      0.00        68\n",
      "\n",
      "    accuracy                           0.85       448\n",
      "   macro avg       0.42      0.50      0.46       448\n",
      "weighted avg       0.72      0.85      0.78       448\n",
      "\n"
     ]
    },
    {
     "name": "stderr",
     "output_type": "stream",
     "text": [
      "C:\\Users\\Rostaing\\anaconda3\\lib\\site-packages\\sklearn\\metrics\\_classification.py:1318: UndefinedMetricWarning:\n",
      "\n",
      "Precision and F-score are ill-defined and being set to 0.0 in labels with no predicted samples. Use `zero_division` parameter to control this behavior.\n",
      "\n",
      "C:\\Users\\Rostaing\\anaconda3\\lib\\site-packages\\sklearn\\metrics\\_classification.py:1318: UndefinedMetricWarning:\n",
      "\n",
      "Precision and F-score are ill-defined and being set to 0.0 in labels with no predicted samples. Use `zero_division` parameter to control this behavior.\n",
      "\n"
     ]
    }
   ],
   "source": [
    "print(classification_report(y_test, y_final))"
   ]
  },
  {
   "cell_type": "code",
   "execution_count": 70,
   "id": "662e6419-ccf1-4a77-ae29-961d730fa58c",
   "metadata": {
    "tags": []
   },
   "outputs": [
    {
     "name": "stdout",
     "output_type": "stream",
     "text": [
      "[[380   0]\n",
      " [ 68   0]]\n"
     ]
    }
   ],
   "source": [
    "print(confusion_matrix(y_test, y_final))"
   ]
  }
 ],
 "metadata": {
  "kernelspec": {
   "display_name": "Python 3 (ipykernel)",
   "language": "python",
   "name": "python3"
  },
  "language_info": {
   "codemirror_mode": {
    "name": "ipython",
    "version": 3
   },
   "file_extension": ".py",
   "mimetype": "text/x-python",
   "name": "python",
   "nbconvert_exporter": "python",
   "pygments_lexer": "ipython3",
   "version": "3.9.18"
  },
  "widgets": {
   "application/vnd.jupyter.widget-state+json": {
    "state": {},
    "version_major": 2,
    "version_minor": 0
   }
  }
 },
 "nbformat": 4,
 "nbformat_minor": 5
}
